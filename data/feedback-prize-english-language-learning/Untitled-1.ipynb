{
 "cells": [
  {
   "cell_type": "code",
   "execution_count": 39,
   "metadata": {},
   "outputs": [],
   "source": [
    "import pandas as pd"
   ]
  },
  {
   "cell_type": "code",
   "execution_count": 40,
   "metadata": {},
   "outputs": [],
   "source": [
    "df_pre = pd.read_csv(\"/home/jumpei.uchida/develop/kaggle_1080ti_1_1/feedback-prize-english-language-learning/data/feedback-prize-english-language-learning/train_original.csv\")"
   ]
  },
  {
   "cell_type": "code",
   "execution_count": 41,
   "metadata": {},
   "outputs": [],
   "source": [
    "df_fix = pd.read_csv(\"/home/jumpei.uchida/develop/kaggle_1080ti_1_1/feedback-prize-english-language-learning/data/feedback-prize-english-language-learning/train_fix.csv\")"
   ]
  },
  {
   "cell_type": "code",
   "execution_count": 42,
   "metadata": {},
   "outputs": [],
   "source": [
    "df_train = pd.concat([df_pre.drop(\"full_text\",axis = 1),df_fix.iloc[:,[2]]],axis =1).rename(columns = {\"full_text_fix_post\":\"full_text\"}).astype({\"full_text\":str})"
   ]
  },
  {
   "cell_type": "code",
   "execution_count": 43,
   "metadata": {},
   "outputs": [],
   "source": [
    "df_train = df_train.reindex(columns=['text_id', 'full_text', 'cohesion', 'syntax', 'vocabulary', 'phraseology', 'grammar',\n",
    "       'conventions'])"
   ]
  },
  {
   "cell_type": "code",
   "execution_count": 44,
   "metadata": {},
   "outputs": [],
   "source": [
    "df_train.to_csv(\"./train.csv\",index = False,encoding = \"utf-8\")"
   ]
  },
  {
   "cell_type": "code",
   "execution_count": 45,
   "metadata": {},
   "outputs": [
    {
     "data": {
      "text/plain": [
       "text_id         object\n",
       "full_text       object\n",
       "cohesion       float64\n",
       "syntax         float64\n",
       "vocabulary     float64\n",
       "phraseology    float64\n",
       "grammar        float64\n",
       "conventions    float64\n",
       "dtype: object"
      ]
     },
     "execution_count": 45,
     "metadata": {},
     "output_type": "execute_result"
    }
   ],
   "source": [
    "df_pre.dtypes"
   ]
  },
  {
   "cell_type": "code",
   "execution_count": 46,
   "metadata": {},
   "outputs": [
    {
     "data": {
      "text/plain": [
       "text_id         object\n",
       "full_text       object\n",
       "cohesion       float64\n",
       "syntax         float64\n",
       "vocabulary     float64\n",
       "phraseology    float64\n",
       "grammar        float64\n",
       "conventions    float64\n",
       "dtype: object"
      ]
     },
     "execution_count": 46,
     "metadata": {},
     "output_type": "execute_result"
    }
   ],
   "source": [
    "df_train.dtypes"
   ]
  },
  {
   "cell_type": "code",
   "execution_count": 47,
   "metadata": {},
   "outputs": [
    {
     "data": {
      "text/plain": [
       "'I'"
      ]
     },
     "execution_count": 47,
     "metadata": {},
     "output_type": "execute_result"
    }
   ],
   "source": [
    "df_train[\"full_text\"][0][0]"
   ]
  },
  {
   "cell_type": "code",
   "execution_count": 48,
   "metadata": {},
   "outputs": [
    {
     "data": {
      "text/plain": [
       "'I'"
      ]
     },
     "execution_count": 48,
     "metadata": {},
     "output_type": "execute_result"
    }
   ],
   "source": [
    "df_pre[\"full_text\"][0][0]"
   ]
  },
  {
   "cell_type": "code",
   "execution_count": null,
   "metadata": {},
   "outputs": [],
   "source": []
  }
 ],
 "metadata": {
  "kernelspec": {
   "display_name": "Python 3.8.10 ('feedback3-YMstH_ai-py3.8')",
   "language": "python",
   "name": "python3"
  },
  "language_info": {
   "codemirror_mode": {
    "name": "ipython",
    "version": 3
   },
   "file_extension": ".py",
   "mimetype": "text/x-python",
   "name": "python",
   "nbconvert_exporter": "python",
   "pygments_lexer": "ipython3",
   "version": "3.8.10"
  },
  "orig_nbformat": 4,
  "vscode": {
   "interpreter": {
    "hash": "853f71be9d91f86b9d05abcb7ca94818b7279472aba33a538d5887c4f513581f"
   }
  }
 },
 "nbformat": 4,
 "nbformat_minor": 2
}
